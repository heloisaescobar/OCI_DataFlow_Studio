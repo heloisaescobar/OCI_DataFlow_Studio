{
 "cells": [
  {
   "cell_type": "markdown",
   "id": "667667e5",
   "metadata": {},
   "source": [
    "# Publicar Aplicação no OCI Data Flow"
   ]
  },
  {
   "cell_type": "markdown",
   "id": "c30d6932",
   "metadata": {},
   "source": [
    "Objetivo: O objetivo desse notebook é realizar o deploy do seu script python no OCI Data Flow através do OCI Data Science."
   ]
  }
 ],
 "metadata": {
  "kernelspec": {
   "display_name": "Python [conda env:fspyspark32_p38_cpu_v1]",
   "language": "python",
   "name": "conda-env-fspyspark32_p38_cpu_v1-py"
  },
  "language_info": {
   "codemirror_mode": {
    "name": "ipython",
    "version": 3
   },
   "file_extension": ".py",
   "mimetype": "text/x-python",
   "name": "python",
   "nbconvert_exporter": "python",
   "pygments_lexer": "ipython3",
   "version": "3.8.17"
  }
 },
 "nbformat": 4,
 "nbformat_minor": 5
}
