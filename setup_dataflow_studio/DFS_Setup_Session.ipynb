{
 "cells": [
  {
   "cell_type": "markdown",
   "id": "7e163a5f",
   "metadata": {},
   "source": [
    "### DFS_Setup_Session"
   ]
  },
  {
   "cell_type": "code",
   "execution_count": null,
   "id": "7bc01e62",
   "metadata": {},
   "outputs": [],
   "source": [
    "# Upgrade Oracle ADS to pick up latest features and maintain compatibility with Oracle Cloud Infrastructure.\n",
    "!pip install -U oracle-ads"
   ]
  },
  {
   "cell_type": "markdown",
   "id": "69284cdf",
   "metadata": {},
   "source": [
    "# Criação Sessão OCI Data Flow Studio"
   ]
  },
  {
   "cell_type": "code",
   "execution_count": 2,
   "id": "ca85f7dd",
   "metadata": {},
   "outputs": [],
   "source": [
    "# importando a biblioteca ADS e realizando a autenticação\n",
    "import ads\n",
    "ads.set_auth(\"resource_principal\")"
   ]
  },
  {
   "cell_type": "code",
   "execution_count": 3,
   "id": "6c80c15e",
   "metadata": {},
   "outputs": [],
   "source": [
    "import os\n",
    "compartment_id = os.environ.get(\"NB_SESSION_COMPARTMENT_OCID\")\n",
    "logs_bucket_uri = \"oci://bucket-logs@id3kyspkytmr\" #Bucket para logs da sessão do Data Flow\n",
    "archive_uri = \"oci://bucket-library@id3kyspkytmr/archive3.zip\" #Aqui colocar a imagem que você quer subir"
   ]
  },
  {
   "cell_type": "code",
   "execution_count": 4,
   "id": "13fc8264",
   "metadata": {},
   "outputs": [],
   "source": [
    "import json\n",
    "\n",
    "def prepare_command(command: dict) -> str:\n",
    "    \"\"\"Converts dictionary command to the string formatted commands.\"\"\"\n",
    "    return f\"'{json.dumps(command)}'\""
   ]
  },
  {
   "cell_type": "code",
   "execution_count": 5,
   "id": "faafe7f4",
   "metadata": {},
   "outputs": [],
   "source": [
    "%load_ext dataflow.magics"
   ]
  },
  {
   "cell_type": "code",
   "execution_count": 6,
   "id": "ff7d069c",
   "metadata": {},
   "outputs": [
    {
     "name": "stdout",
     "output_type": "stream",
     "text": [
      "Setting up the Cluster..\n"
     ]
    },
    {
     "data": {
      "application/vnd.jupyter.widget-view+json": {
       "model_id": "733d2621e2f148fdaa472cfebc9167ac",
       "version_major": 2,
       "version_minor": 0
      },
      "text/plain": [
       "FloatProgress(value=0.0, bar_style='info', description='Progress:', layout=Layout(height='25px', width='50%'),…"
      ]
     },
     "metadata": {},
     "output_type": "display_data"
    },
    {
     "name": "stdout",
     "output_type": "stream",
     "text": [
      "Cluster is ready..\n",
      "Starting Spark application..\n"
     ]
    },
    {
     "data": {
      "text/html": [
       "<table>\n",
       "<tr><th>Session ID</th><th>Kind</th><th>State</th><th>Current session</th></tr><tr><td>ocid1.dataflowapplication.oc1.iad.anuwcljttsbrckqasmgrtupiovpqikgyqy3l4mlqje7i3clxs45knavsxswa</td><td>pyspark</td><td>IN_PROGRESS</td><td><a target=\"_blank\" href=\"https://console.us-phoenix-1.oraclecloud.com/data-flow/runs/details/ocid1.dataflowrun.oc1.iad.anuwcljttsbrckqaonas4xuldm72kxiqgqta5pjllnmccnkdi2sb6ehsrhha?region=us-ashburn-1\">Dataflow Run</a></td></tr></table>"
      ],
      "text/plain": [
       "<IPython.core.display.HTML object>"
      ]
     },
     "metadata": {},
     "output_type": "display_data"
    },
    {
     "data": {
      "application/vnd.jupyter.widget-view+json": {
       "model_id": "",
       "version_major": 2,
       "version_minor": 0
      },
      "text/plain": [
       "FloatProgress(value=0.0, bar_style='info', description='Progress:', layout=Layout(height='25px', width='50%'),…"
      ]
     },
     "metadata": {},
     "output_type": "display_data"
    },
    {
     "name": "stdout",
     "output_type": "stream",
     "text": [
      "SparkSession available as 'spark'.\n",
      "SparkContext available as 'sc'.\n"
     ]
    }
   ],
   "source": [
    "command = prepare_command(\n",
    "    {\n",
    "        \"compartmentId\": compartment_id,\n",
    "        \"displayName\": \"App_DataFlowStudio\",\n",
    "        \"language\": \"PYTHON\",\n",
    "        \"sparkVersion\": \"3.2.1\",\n",
    "        \"numExecutors\": 2,\n",
    "        \"archiveUri\": archive_uri,\n",
    "        \"driverShape\": \"VM.Standard.E4.Flex\",\n",
    "        \"executorShape\": \"VM.Standard.E4.Flex\",\n",
    "        \"configuration\": {\n",
    "            \"spark.dynamicAllocation.enabled\": \"true\",\n",
    "            \"spark.dynamicAllocation.shuffleTracking.enabled\": \"true\",\n",
    "            \"spark.dynamicAllocation.minExecutors\": \"1\",\n",
    "            \"spark.dynamicAllocation.maxExecutors\": \"2\",\n",
    "            \"spark.dynamicAllocation.executorIdleTimeout\": \"60\",\n",
    "            \"spark.dynamicAllocation.schedulerBacklogTimeout\": \"60\",\n",
    "            \"spark.dataflow.dynamicAllocation.quotaPolicy\": \"min\",\n",
    "            \"spark.jars.packages\": \"com.oracle.oci.sdk:oci-java-sdk-addons-sasl:2.20.0,org.apache.spark:spark-sql-kafka-0-10_2.12:3.2.1\"\n",
    "        },\n",
    "        \"driverShapeConfig\": {\"ocpus\": 1, \"memoryInGBs\": 8},\n",
    "        \"executorShapeConfig\": {\"ocpus\": 1, \"memoryInGBs\": 8},\n",
    "        \"logsBucketUri\": logs_bucket_uri,\n",
    "        \"type\": \"SESSION\",\n",
    "        #\"logsBucketUri\": logs_bucket_uri,\n",
    "        #\"poolId\": \"ocid1.dataflowpool.oc1.iad.anuwcljttsbrckqalrhm4oxeatoxzdmwoo36wpsqpyb2mhz5kunzkojynd7a\"\n",
    "        }\n",
    ") \n",
    "%create_session -l python -c $command"
   ]
  },
  {
   "cell_type": "code",
   "execution_count": 7,
   "id": "a407d236",
   "metadata": {},
   "outputs": [
    {
     "name": "stdout",
     "output_type": "stream",
     "text": [
      "Using Active Session .. ocid1.dataflowrun.oc1.iad.anuwcljttsbrckqaonas4xuldm72kxiqgqta5pjllnmccnkdi2sb6ehsrhha\n"
     ]
    },
    {
     "data": {
      "application/vnd.jupyter.widget-view+json": {
       "model_id": "868f523d47234402b7de5ef71a228994",
       "version_major": 2,
       "version_minor": 0
      },
      "text/plain": [
       "FloatProgress(value=0.0, bar_style='info', description='Progress:', layout=Layout(height='25px', width='50%'),…"
      ]
     },
     "metadata": {},
     "output_type": "display_data"
    },
    {
     "name": "stdout",
     "output_type": "stream",
     "text": [
      "Cluster is ready..\n",
      "Starting Spark application..\n"
     ]
    },
    {
     "data": {
      "text/html": [
       "<table>\n",
       "<tr><th>Session ID</th><th>Kind</th><th>State</th><th>Current session</th></tr><tr><td>ocid1.dataflowapplication.oc1.iad.anuwcljttsbrckqasmgrtupiovpqikgyqy3l4mlqje7i3clxs45knavsxswa</td><td>pyspark</td><td>IN_PROGRESS</td><td><a target=\"_blank\" href=\"https://console.us-phoenix-1.oraclecloud.com/data-flow/runs/details/ocid1.dataflowrun.oc1.iad.anuwcljttsbrckqaonas4xuldm72kxiqgqta5pjllnmccnkdi2sb6ehsrhha?region=us-ashburn-1\">Dataflow Run</a></td></tr></table>"
      ],
      "text/plain": [
       "<IPython.core.display.HTML object>"
      ]
     },
     "metadata": {},
     "output_type": "display_data"
    },
    {
     "data": {
      "application/vnd.jupyter.widget-view+json": {
       "model_id": "",
       "version_major": 2,
       "version_minor": 0
      },
      "text/plain": [
       "FloatProgress(value=0.0, bar_style='info', description='Progress:', layout=Layout(height='25px', width='50%'),…"
      ]
     },
     "metadata": {},
     "output_type": "display_data"
    },
    {
     "name": "stdout",
     "output_type": "stream",
     "text": [
      "SparkSession available as 'spark'.\n",
      "SparkContext available as 'sc'.\n"
     ]
    }
   ],
   "source": [
    "%use_session -s ocid1.dataflowapplication.oc1.iad.anuwcljttsbrckqasmgrtupiovpqikgyqy3l4mlqje7i3clxs45knavsxswa"
   ]
  },
  {
   "cell_type": "markdown",
   "id": "fed54be0",
   "metadata": {},
   "source": [
    "# Configuração da sessão"
   ]
  },
  {
   "cell_type": "markdown",
   "id": "9cfc10bc",
   "metadata": {},
   "source": [
    "Caso ocorre necessidade de modificar ou adicionar algum parâmetro na sessão"
   ]
  },
  {
   "cell_type": "code",
   "execution_count": null,
   "id": "f5734977",
   "metadata": {},
   "outputs": [],
   "source": [
    "%configure_session?"
   ]
  },
  {
   "cell_type": "code",
   "execution_count": null,
   "id": "8b612ca4",
   "metadata": {},
   "outputs": [],
   "source": [
    "# Mostra os parâmetros configurados na sessão atual\n",
    "%config"
   ]
  },
  {
   "cell_type": "code",
   "execution_count": 13,
   "id": "c29d1022",
   "metadata": {},
   "outputs": [
    {
     "name": "stdout",
     "output_type": "stream",
     "text": [
      "Configuration has been updated and will be effective for next session execution.\n"
     ]
    }
   ],
   "source": [
    "# Alterar configuração\n",
    "\n",
    "%configure_session -i {\"metastoreId\":\"ocid1.datacatalogmetastore.oc1.iad.amaaaaaatsbrckqad6nabnazce3l4ts45563l6gszeff2m6monfcfeqvpxua\"}"
   ]
  },
  {
   "cell_type": "markdown",
   "id": "bdbb5c63",
   "metadata": {},
   "source": [
    "# Comandos de Apoio"
   ]
  },
  {
   "cell_type": "code",
   "execution_count": null,
   "id": "e1f67846",
   "metadata": {},
   "outputs": [],
   "source": [
    "%help"
   ]
  }
 ],
 "metadata": {
  "kernelspec": {
   "display_name": "Python [conda env:fspyspark32_p38_cpu_v1]",
   "language": "python",
   "name": "conda-env-fspyspark32_p38_cpu_v1-py"
  },
  "language_info": {
   "codemirror_mode": {
    "name": "ipython",
    "version": 3
   },
   "file_extension": ".py",
   "mimetype": "text/x-python",
   "name": "python",
   "nbconvert_exporter": "python",
   "pygments_lexer": "ipython3",
   "version": "3.8.17"
  }
 },
 "nbformat": 4,
 "nbformat_minor": 5
}
